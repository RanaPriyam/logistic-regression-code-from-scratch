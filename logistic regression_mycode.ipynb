{
 "cells": [
  {
   "cell_type": "code",
   "execution_count": 47,
   "metadata": {},
   "outputs": [],
   "source": [
    "def pred(x,m):\n",
    "    l=len(x)\n",
    "    Pred=np.zeros(l,int)\n",
    "    for i in range(l):\n",
    "        if (m*x[i]).sum()>0:\n",
    "            Pred[i]=1\n",
    "        else:\n",
    "            Pred[i]=0\n",
    "    return Pred"
   ]
  },
  {
   "cell_type": "code",
   "execution_count": 48,
   "metadata": {},
   "outputs": [],
   "source": [
    "\n",
    "# You can avoid this problem by using different cases for positive and negative gamma:\n",
    "\n",
    "# def sigmoid(gamma):\n",
    "#   if gamma < 0:\n",
    "#     return 1 - 1/(1 + math.exp(gamma))\n",
    "#   else:\n",
    "#     return 1/(1 + math.exp(-gamma))\n",
    "# The math range error is likely because your gamma argument is a large negative value, so you are calling exp() with a large positive value. \n",
    "# It is very easy to exceed your floating point range that way\n",
    "def step_GD(x,y,m,a,ite):\n",
    "    import math\n",
    "    l=len(x)\n",
    "    slope=np.zeros(31)\n",
    "    for i in range(31):\n",
    "        for j in range(l):\n",
    "            gamma=(m*x[j]).sum()\n",
    "            if gamma < 0:\n",
    "                h=1 - 1/(1 + math.exp(gamma))\n",
    "            else:\n",
    "                h=1/(1 + math.exp(-gamma))\n",
    "            slope[i]+=(-1/l)*(y[j]-h)*x[j][i]\n",
    "        m[i]-=a*slope[i]\n",
    "    return m\n",
    "            \n",
    "            \n",
    "            "
   ]
  },
  {
   "cell_type": "code",
   "execution_count": 49,
   "metadata": {},
   "outputs": [],
   "source": [
    "def gradient_descent(x,y,m,a,ite):\n",
    "    for i in range(ite):\n",
    "        m=step_GD(x,y,m,a,ite)\n",
    "    return m\n",
    "    "
   ]
  },
  {
   "cell_type": "code",
   "execution_count": 60,
   "metadata": {},
   "outputs": [
    {
     "name": "stdout",
     "output_type": "stream",
     "text": [
      "[[52  1]\n",
      " [ 5 85]]\n",
      "[[47  6]\n",
      " [ 3 87]]\n",
      "             precision    recall  f1-score   support\n",
      "\n",
      "          0       0.91      0.98      0.95        53\n",
      "          1       0.99      0.94      0.97        90\n",
      "\n",
      "avg / total       0.96      0.96      0.96       143\n",
      "\n",
      "             precision    recall  f1-score   support\n",
      "\n",
      "          0       0.94      0.89      0.91        53\n",
      "          1       0.94      0.97      0.95        90\n",
      "\n",
      "avg / total       0.94      0.94      0.94       143\n",
      "\n"
     ]
    }
   ],
   "source": [
    "import numpy as np\n",
    "import pandas as pd\n",
    "from sklearn import datasets\n",
    "from sklearn.linear_model import LogisticRegression\n",
    "from sklearn.metrics import confusion_matrix\n",
    "from sklearn.metrics import classification_report\n",
    "cancer=datasets.load_breast_cancer()\n",
    "temp=cancer.data\n",
    "df=pd.DataFrame(temp)\n",
    "df[30]=1\n",
    "data=df.values\n",
    "result=cancer.target\n",
    "from sklearn import model_selection\n",
    "X_train,X_test,Y_train,Y_test=model_selection.train_test_split(data,result,random_state=0)\n",
    "m=np.zeros(31)\n",
    "a=0.0001\n",
    "ite=1000\n",
    "m=gradient_descent(X_train,Y_train,m,a,ite)\n",
    "Y_test_pred_me=pred(X_test,m)\n",
    "# print(Y_test_pred_me)\n",
    "# print(Y_test_pred_me-Y_test)\n",
    "clf=LogisticRegression()\n",
    "clf.fit(X_train[:,:30],Y_train)\n",
    "Y_test_pred=clf.predict(X_test[:,:30])\n",
    "print(confusion_matrix(Y_test,Y_test_pred))\n",
    "print(confusion_matrix(Y_test,Y_test_pred_me))\n",
    "print(classification_report(Y_test,Y_test_pred))\n",
    "print(classification_report(Y_test,Y_test_pred_me))\n",
    "\n"
   ]
  }
 ],
 "metadata": {
  "kernelspec": {
   "display_name": "Python 3",
   "language": "python",
   "name": "python3"
  },
  "language_info": {
   "codemirror_mode": {
    "name": "ipython",
    "version": 3
   },
   "file_extension": ".py",
   "mimetype": "text/x-python",
   "name": "python",
   "nbconvert_exporter": "python",
   "pygments_lexer": "ipython3",
   "version": "3.6.4"
  }
 },
 "nbformat": 4,
 "nbformat_minor": 2
}
